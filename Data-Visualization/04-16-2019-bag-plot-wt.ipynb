{
 "cells": [
  {
   "cell_type": "markdown",
   "metadata": {},
   "source": [
    "# Bag plot using R within Python (rpy2)"
   ]
  },
  {
   "cell_type": "raw",
   "metadata": {},
   "source": [
    " - The following functions are based on the R function bagplot provided by the aplpack library.\n",
    " - Parameters are estimated using the method specificed by P. J. Rousseeuw, I. Ruts, J. W. Tukey (1999).\n",
    "  The bagplot: a bivariate boxplot, The American Statistician,\n",
    "  vol. 53, no. 4, 382-387. "
   ]
  },
  {
   "cell_type": "code",
   "execution_count": 1,
   "metadata": {},
   "outputs": [],
   "source": [
    "# It is important to import rpy2 objects first otherwise kernel dies"
   ]
  },
  {
   "cell_type": "code",
   "execution_count": 2,
   "metadata": {},
   "outputs": [
    {
     "name": "stderr",
     "output_type": "stream",
     "text": [
      "/Users/wahiba/anaconda/envs/dataScience/lib/python3.7/site-packages/rpy2/rinterface/__init__.py:146: RRuntimeWarning: Loading required package: tcltk\n",
      "\n",
      "  warnings.warn(x, RRuntimeWarning)\n"
     ]
    }
   ],
   "source": [
    "import rpy2.robjects as robjects\n",
    "robjects.r(\"library(aplpack)\")\n",
    "bagplot = robjects.r['bagplot']\n",
    "from rpy2.robjects.packages import importr\n",
    "utils = importr('utils')\n",
    "try : \n",
    "    aplpack = importr('aplpack')\n",
    "except:\n",
    "    utils.install_packages('aplpack')\n",
    "    aplpack = importr('aplpack')\n",
    "#import rpy2.robjects.numpy2ri\n",
    "#rpy2.robjects.numpy2ri.activate()\n",
    "#---------\n",
    "from matplotlib.patches import Polygon\n",
    "import scipy\n",
    "import matplotlib.pyplot as plt\n",
    "%matplotlib inline\n",
    "import numpy as np"
   ]
  },
  {
   "cell_type": "code",
   "execution_count": 3,
   "metadata": {},
   "outputs": [],
   "source": [
    "# aplpack.bagplot?"
   ]
  },
  {
   "cell_type": "code",
   "execution_count": 4,
   "metadata": {},
   "outputs": [],
   "source": [
    "def compute_bagplot(x, y, **kwargs):\n",
    "    \"\"\" compute_bagplot calculates bagplot parameters based on the\n",
    "    method specificed by P. J. Rousseeuw, I. Ruts, J. W. Tukey (1999).\n",
    "    The bagplot: a bivariate boxplot, The American Statistician,\n",
    "    vol. 53, no. 4, 382-387.  This function is a wrapper around the\n",
    "    R function bagplot provided by the aplpack library. \n",
    "    Parameters\n",
    "    ----------\n",
    "    x : 1-D sequence of floats\n",
    "       x is the x-coordinate of the data\n",
    "    y : 1-D sequence of floats\n",
    "       y is the y-coordinate of the data\n",
    "    **kwargs specify additional arguments to be passed directly to the\n",
    "    boxplot function, overriding defaults.\n",
    "    'factor'          : 2.5,\n",
    "    'create_plot'     : False,\n",
    "    'approx_limit'    : 300,\n",
    "    'show_outlier'    : True,\n",
    "    'show_looppoints' : True,\n",
    "    'show_bagpoints'  : True,\n",
    "    'dkmethod'        : 2,\n",
    "    'show_whiskers'   : False,\n",
    "    'show_loophull'   : True,\n",
    "    'show_baghull'    : True,\n",
    "    'verbose'         : False\n",
    "    Returns\n",
    "    -------\n",
    "    dict, containing outputs from the R bagplot object\n",
    "    \"\"\"\n",
    "    # Load APLPACK, library which contains the bagplot function\n",
    "    robjects.r(\"library(aplpack)\")\n",
    "    robjects.r(\"library(tcltk)\")\n",
    "    # Import bagplot into the python namespace\n",
    "    bagplot = robjects.r['bagplot']\n",
    "    \n",
    "    # Create an R matrix from the python arrays.\n",
    "    v = robjects.FloatVector(np.hstack([x, y]))\n",
    "    m = robjects.r['matrix'](v, ncol=2)\n",
    "\n",
    "    bag_kwargs = {\n",
    "        'factor'          : 2.5,\n",
    "        'create_plot'     : False,\n",
    "        'approx_limit'    : 300,\n",
    "        'show_outlier'    : True,\n",
    "        'show_looppoints' : True,\n",
    "        'show_bagpoints'  : True,\n",
    "        'dkmethod'        : 2,\n",
    "        'show_whiskers'   : False,\n",
    "        'show_loophull'   : True,\n",
    "        'show_baghull'    : True,\n",
    "        'verbose'         : False\n",
    "    }\n",
    "\n",
    "    bag_kwargs.update(kwargs)\n",
    "\n",
    "    # Calculate bagplot data\n",
    "    bag_data = bagplot(m, **bag_kwargs)\n",
    "\n",
    "    # Process output results into python data models\n",
    "    bag_dict = {\n",
    "        'center'      : np.array(bag_data[0]),\n",
    "        'hull_center' : np.array(bag_data[1]),\n",
    "        'hull_bag'    : np.array(bag_data[2]),\n",
    "        'hull_loop'   : np.array(bag_data[3]),\n",
    "        'pxy_bag'     : np.array(bag_data[4]),\n",
    "        'pxy_outer'   : np.array(bag_data[5]),\n",
    "        'pxy_outlier' : np.array(bag_data[6]),\n",
    "        'hdepths'     : np.array(bag_data[7]),\n",
    "        'is_one_dim'  : bool(bag_data[8]),\n",
    "        'xydata'      : np.array(bag_data[-1]),\n",
    "    }\n",
    "\n",
    "    pr_list = bag_data[9]\n",
    "    pr_dict = {\n",
    "        'sdev'     : np.array(pr_list[0]),\n",
    "        'rotation' : np.array(pr_list[1]),\n",
    "        'center'   : np.array(pr_list[2]),\n",
    "        'scale'    : bool(pr_list[3]),\n",
    "        'x'        : np.array(pr_list[4]),\n",
    "    }\n",
    "        \n",
    "    bag_dict['pr_data'] = pr_dict\n",
    "\n",
    "    return bag_dict\n"
   ]
  },
  {
   "cell_type": "code",
   "execution_count": 5,
   "metadata": {},
   "outputs": [],
   "source": [
    "def custom_bagplot(ax, x,y,kwargs, color=\"r\"):\n",
    "    bag_dict = compute_bagplot(x, y,**kwargs)\n",
    "    hc_poly = Polygon(np.array(bag_dict['hull_center']),\n",
    "                      fc=color,alpha=1,\n",
    "                      ec='none', zorder=0)\n",
    "    hb_poly = Polygon(np.array(bag_dict['hull_bag']),\n",
    "                      fc=color,alpha=0.4,\n",
    "                      ec='none', zorder=0)\n",
    "    hl_poly = Polygon(np.array(bag_dict['hull_loop']),\n",
    "                      fc=color,alpha=0.1,\n",
    "                      ec='none', zorder=0)\n",
    "\n",
    "    hc_poly_l = Polygon(np.array(bag_dict['hull_center']),\n",
    "                        ec=color, fc='none',\n",
    "                      zorder=1, ls='solid')\n",
    "    hb_poly_l = Polygon(np.array(bag_dict['hull_bag']),\n",
    "                        ec=color, fc='none',\n",
    "                      zorder=1, ls='solid')\n",
    "    hl_poly_l = Polygon(np.array(bag_dict['hull_loop']),\n",
    "                        ec=color, fc='none',\n",
    "                      zorder=1, ls='dashed')\n",
    "\n",
    "    center = bag_dict['center']\n",
    "    ax.add_patch(hc_poly)\n",
    "    ax.add_patch(hc_poly_l)\n",
    "\n",
    "\n",
    "    if kwargs['show_loophull']:\n",
    "        ax.add_patch(hl_poly)\n",
    "    if kwargs['show_looppoints']:\n",
    "        ax.add_patch(hl_poly_l)\n",
    "\n",
    "\n",
    "    if kwargs['show_baghull' ]:\n",
    "        ax.add_patch(hb_poly)\n",
    "    if kwargs['show_bagpoints']:\n",
    "        ax.add_patch(hb_poly_l)\n",
    "\n",
    "\n",
    "    ax.plot(center[0], center[1], 'o', color=color,alpha=1)"
   ]
  },
  {
   "cell_type": "code",
   "execution_count": 6,
   "metadata": {},
   "outputs": [
    {
     "data": {
      "text/plain": [
       "dict_keys(['center', 'hull_center', 'hull_bag', 'hull_loop', 'pxy_bag', 'pxy_outer', 'pxy_outlier', 'hdepths', 'is_one_dim', 'xydata', 'pr_data'])"
      ]
     },
     "execution_count": 6,
     "metadata": {},
     "output_type": "execute_result"
    }
   ],
   "source": [
    "x = np.random.randint(100,size=50)\n",
    "y = np.random.randint(300,size=50)\n",
    "q = compute_bagplot(x, y)\n",
    "q.keys()"
   ]
  },
  {
   "cell_type": "code",
   "execution_count": 7,
   "metadata": {},
   "outputs": [
    {
     "data": {
      "image/png": "[encoded data removed]",
      "text/plain": [
       "<Figure size 216x216 with 1 Axes>"
      ]
     },
     "metadata": {},
     "output_type": "display_data"
    }
   ],
   "source": [
    "% run figconfig.py\n",
    "bag_kwargs = {\n",
    "        'factor'          : 3,\n",
    "        'approx_limit'    : 300,\n",
    "        'show_looppoints' : True,\n",
    "        'show_bagpoints'  : False,\n",
    "        'show_loophull'   : True,\n",
    "        'show_baghull'    : True,\n",
    "    }\n",
    "fig,ax = plt.subplots(1,1, figsize=(3,3))\n",
    "ax.plot(x,y,\"k+\")\n",
    "custom_bagplot(ax, x,y, bag_kwargs,color=\"b\")\n",
    "stylize_axes(ax, \"Bag plot\", \"x-values\", \"y-values\", xticks=[], yticks=[], xticklabels=[], yticklabels=[])"
   ]
  },
  {
   "cell_type": "code",
   "execution_count": 8,
   "metadata": {},
   "outputs": [],
   "source": [
    "# Refs:\n",
    "# https://github.com/pstjohn/circadian-methods/blob/master/Bagplot.py"
   ]
  },
  {
   "cell_type": "code",
   "execution_count": null,
   "metadata": {},
   "outputs": [],
   "source": []
  }
 ],
 "metadata": {
  "kernelspec": {
   "display_name": "Python 3",
   "language": "python",
   "name": "python3"
  },
  "language_info": {
   "codemirror_mode": {
    "name": "ipython",
    "version": 3
   },
   "file_extension": ".py",
   "mimetype": "text/x-python",
   "name": "python",
   "nbconvert_exporter": "python",
   "pygments_lexer": "ipython3",
   "version": "3.7.1"
  }
 },
 "nbformat": 4,
 "nbformat_minor": 2
}

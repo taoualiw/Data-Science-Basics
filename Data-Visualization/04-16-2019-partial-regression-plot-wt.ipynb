{
 "cells": [
  {
   "cell_type": "markdown",
   "metadata": {},
   "source": [
    "# Partial Regression Plot"
   ]
  },
  {
   "cell_type": "code",
   "execution_count": 1,
   "metadata": {},
   "outputs": [],
   "source": [
    "import numpy as np\n",
    "import scipy\n",
    "import matplotlib.pyplot as plt\n",
    "%matplotlib inline"
   ]
  },
  {
   "cell_type": "code",
   "execution_count": 38,
   "metadata": {},
   "outputs": [],
   "source": [
    "def multi_corr(y,X):\n",
    "    \"\"\"\n",
    "    Perform a multiple linear regression of y onto X (similar to matlab regress function)\n",
    "    X   y \n",
    "    \n",
    "    Input:\n",
    "        X : is a (num observations) by (num variables +1) array.  X should contain a column \n",
    "            of ones to generate the intercept.\n",
    "        y: is a (num observations) array of independent variables\n",
    "    \n",
    "    Output:\n",
    "        r: coef of correlation\n",
    "        p_value: p value for the full model\n",
    "    \"\"\"\n",
    "    import statsmodels.api as sm\n",
    "    X = sm.add_constant(X)\n",
    "    est = sm.OLS(y, X).fit()\n",
    "    #STATS: the R-square statistic, the F statistic , p value for the full model,\n",
    "    # and an estimate of the error variance.\n",
    "    STATS = np.array([est.rsquared , est.fvalue, est.f_pvalue, est.mse_resid])\n",
    "    r,p_value = STATS[0]**0.5,STATS[2]\n",
    "    Resid = est.resid\n",
    "    return r,p_value,Resid\n",
    "\n",
    "def partial_corr(C,rank=False):\n",
    "    from scipy.stats import pearsonr, rankdata\n",
    "    \"\"\"\n",
    "    Formally, the partial correlation between X and Y given a set of n controlling variables\n",
    "    Z = {Z1, Z2, ..., Zn}, is the correlation between the residuals RX and RY resulting from \n",
    "    the linear regression of X with Z and of Y with Z,respectively. \n",
    "    partial_linear_correlation(pearson on the residuals of data linear regression) : default\n",
    "    partial_rank_correlation( pearson on the residuals of ranked data linear regression~called spearman \n",
    "                                       in matlab function partialcorr) : when rank==True\n",
    "    \"\"\"\n",
    "    N_vars = C.shape[1]\n",
    "    if rank:\n",
    "        C1  = rankdata(C[:,0], method='ordinal')\n",
    "        for k in range(N_vars-1) :\n",
    "            C1 = np.column_stack((C1, rankdata(C[:,k+1], method='ordinal')))\n",
    "        C = C1\n",
    "    partial_corr = np.zeros((N_vars,N_vars))\n",
    "    pval = np.ones((N_vars,N_vars))*2\n",
    "    for i in range(N_vars):\n",
    "        for j in range(i+1):# np.arange(i,N_vars,1):\n",
    "            index = np.array([True]*N_vars)\n",
    "            index[i] = False\n",
    "            index[j] = False          \n",
    "            var1 =  multi_corr(C[:,i],C[:,index])[2]\n",
    "            var2 = multi_corr(C[:,j],C[:,index])[2]\n",
    "            partial_corr[i,j] = pearsonr(var1,var2)[0]\n",
    "            partial_corr[j,i] = pearsonr(var1,var2)[0]\n",
    "            pval[j,i]=pearsonr(var1,var2)[1]\n",
    "            pval[i,j]=pearsonr(var1,var2)[1]\n",
    "    return  partial_corr,pval \n",
    "\n",
    "def multipleLinearRegressionResiduals(C,rank=False):\n",
    "    from scipy.stats import pearsonr, rankdata\n",
    "\n",
    "    N_vars = C.shape[1]\n",
    "    if rank:\n",
    "        C1  = rankdata(C[:,0], method='ordinal')\n",
    "        for k in range(N_vars-1) :\n",
    "            C1 = np.column_stack((C1, rankdata(C[:,k+1], method='ordinal')))\n",
    "        C = C1\n",
    "    partial_corr = np.zeros((N_vars,N_vars))\n",
    "    pval = np.ones((N_vars,N_vars))*2\n",
    "    res= {}\n",
    "    for i in range(N_vars):\n",
    "        res[i]={}\n",
    "        for j in range(N_vars):\n",
    "            index = np.array([True]*N_vars)\n",
    "            index[i] = False\n",
    "            index[j] = False          \n",
    "            res1 =  multi_corr(C[:,i],C[:,index])[2]\n",
    "            res2 = multi_corr(C[:,j],C[:,index])[2]\n",
    "            res[i][j] = [res1,res2]\n",
    "\n",
    "    return  res"
   ]
  },
  {
   "cell_type": "code",
   "execution_count": 39,
   "metadata": {},
   "outputs": [
    {
     "data": {
      "text/plain": [
       "<Figure size 432x288 with 0 Axes>"
      ]
     },
     "metadata": {},
     "output_type": "display_data"
    },
    {
     "data": {
      "image/png": "[encoded data removed]",
      "text/plain": [
       "<Figure size 288x144 with 2 Axes>"
      ]
     },
     "metadata": {},
     "output_type": "display_data"
    }
   ],
   "source": [
    "% run figconfig.py\n",
    "X = np.array([2.75,2.5,2.5,2.5,2.5,2.5,2.5,2.25,2.25,2.25,2,2,2,1.75,1.75,1.75,1.75,1.75,1.75,1.75,1.75,1.75,1.75,1.75])\n",
    "Y = np.array([5.3,5.3,5.3,5.3,5.4,5.6,5.5,5.5,5.5,5.6,5.7,5.9,6,5.9,5.8,6.1,6.2,6.1,6.1,6.1,5.9,6.2,6.2,6.1])\n",
    "Z = np.array([1464,1394,1357,1293,1256,1254,1234,1195,1159,1167,1130,1075,1047,965,943,958,971,949,884,866,876,822,704,719])        \n",
    "fig,axs = plt.subplots(1,2,figsize=(4,2))\n",
    "custom_scatterplot(axs[0], Z, X, 0.2, [Z.min(),Z.max()], [X.min(),X.max()], color='green', markerscale=100)\n",
    "custom_scatterplot(axs[1], Z, Y, 0.2, [Z.min(),Z.max()], [Y.min(),Y.max()], color='green', markerscale=100)\n",
    "\n",
    "stylize_axes(axs[0], \"\", \"Z\", \"X\", xticks=[], yticks=[], xticklabels=[], yticklabels=[])\n",
    "stylize_axes(axs[1], \"\", \"Z\", \"Y\", xticks=[], yticks=[], xticklabels=[], yticklabels=[])\n",
    "plt.tight_layout()\n"
   ]
  },
  {
   "cell_type": "code",
   "execution_count": 40,
   "metadata": {},
   "outputs": [],
   "source": [
    "data = np.array([X,Y,Z]).T\n",
    "res = multipleLinearRegressionResiduals(data)"
   ]
  },
  {
   "cell_type": "code",
   "execution_count": 41,
   "metadata": {},
   "outputs": [
    {
     "data": {
      "text/plain": [
       "array([[ 1.        , -0.46025928,  0.56064896],\n",
       "       [-0.46025928,  1.        , -0.41999707],\n",
       "       [ 0.56064896, -0.41999707,  1.        ]])"
      ]
     },
     "execution_count": 41,
     "metadata": {},
     "output_type": "execute_result"
    }
   ],
   "source": [
    "partial_corr(data)[0]"
   ]
  },
  {
   "cell_type": "code",
   "execution_count": 59,
   "metadata": {},
   "outputs": [
    {
     "data": {
      "image/png": "[encoded data removed]",
      "text/plain": [
       "<Figure size 144x144 with 1 Axes>"
      ]
     },
     "metadata": {},
     "output_type": "display_data"
    }
   ],
   "source": [
    "resXadjforZ,resYadjforZ = np.array(res[0][1])\n",
    "fig,ax = plt.subplots(1,1,figsize=(2,2))\n",
    "custom_scatterplot(ax, resXadjforZ, resYadjforZ, 0.2, [1.2*resXadjforZ.min(),1.2*resXadjforZ.max()], [1.2*resYadjforZ.min(),1.2*resYadjforZ.max()], color='green', markerscale=100)\n",
    "r = scipy.stats.pearsonr(resXadjforZ,resYadjforZ)\n",
    "\n",
    "stylize_axes(ax, \"r = \"+np.str(np.round(r[0],2)), \"X adj for Z\", \"Y adj for Z\", xticks=[], yticks=[], xticklabels=[], yticklabels=[])\n",
    "\n"
   ]
  },
  {
   "cell_type": "code",
   "execution_count": null,
   "metadata": {},
   "outputs": [],
   "source": []
  }
 ],
 "metadata": {
  "kernelspec": {
   "display_name": "Python 3",
   "language": "python",
   "name": "python3"
  },
  "language_info": {
   "codemirror_mode": {
    "name": "ipython",
    "version": 3
   },
   "file_extension": ".py",
   "mimetype": "text/x-python",
   "name": "python",
   "nbconvert_exporter": "python",
   "pygments_lexer": "ipython3",
   "version": "3.7.1"
  }
 },
 "nbformat": 4,
 "nbformat_minor": 2
}
